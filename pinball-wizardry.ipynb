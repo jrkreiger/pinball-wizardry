{
 "cells": [
  {
   "cell_type": "markdown",
   "metadata": {
    "toc": true
   },
   "source": [
    "<h1>Table of Contents<span class=\"tocSkip\"></span></h1>\n",
    "<div class=\"toc\"><ul class=\"toc-item\"><li><span><a href=\"#Introduction\" data-toc-modified-id=\"Introduction-1\"><span class=\"toc-item-num\">1&nbsp;&nbsp;</span>Introduction</a></span></li><li><span><a href=\"#Get-data-from-PinballMap-API\" data-toc-modified-id=\"Get-data-from-PinballMap-API-2\"><span class=\"toc-item-num\">2&nbsp;&nbsp;</span>Get data from PinballMap API</a></span></li><li><span><a href=\"#Define-scraping-functions\" data-toc-modified-id=\"Define-scraping-functions-3\"><span class=\"toc-item-num\">3&nbsp;&nbsp;</span>Define scraping functions</a></span></li><li><span><a href=\"#Test-scraping-functions\" data-toc-modified-id=\"Test-scraping-functions-4\"><span class=\"toc-item-num\">4&nbsp;&nbsp;</span>Test scraping functions</a></span></li><li><span><a href=\"#Scrape-data-for-all-pinball-machines\" data-toc-modified-id=\"Scrape-data-for-all-pinball-machines-5\"><span class=\"toc-item-num\">5&nbsp;&nbsp;</span>Scrape data for all pinball machines</a></span></li></ul></div>"
   ]
  },
  {
   "cell_type": "markdown",
   "metadata": {},
   "source": [
    "# Introduction"
   ]
  },
  {
   "cell_type": "markdown",
   "metadata": {},
   "source": [
    "This is a project about pinball machines, inspired by [Pinball Map](https://pinballmap.com/). In this notebook I fetch data about pinball machines from the Pinball Map API, then join it with data scraped from the [Internet Pinball Database](https://www.ipdb.org/search.pl). Once I have the data how I want it, I'll move it into Tableau to and create a dashboard.\n",
    "\n",
    "There's no real research question here; the purpose of this project is to practice my web scraping, regex, and Tableau skills."
   ]
  },
  {
   "cell_type": "markdown",
   "metadata": {},
   "source": [
    "# Get data from Pinball Map API"
   ]
  },
  {
   "cell_type": "markdown",
   "metadata": {},
   "source": [
    "First I need to call up the [Pinball Map API](https://pinballmap.com/api/v1/docs) and fetch data on all the machines in its database."
   ]
  },
  {
   "cell_type": "code",
   "execution_count": 1,
   "metadata": {
    "ExecuteTime": {
     "end_time": "2020-02-21T21:58:16.729185Z",
     "start_time": "2020-02-21T21:58:14.683614Z"
    }
   },
   "outputs": [],
   "source": [
    "# Import packages\n",
    "import re\n",
    "import requests\n",
    "import pandas as pd\n",
    "from bs4 import BeautifulSoup\n",
    "import time\n",
    "\n",
    "# Define function to call API\n",
    "def api_call(url, field):\n",
    "    '''Fetches data from API into DataFrame\n",
    "       Dependencies: requests, pandas'''\n",
    "    \n",
    "    response = requests.get(url)\n",
    "    df = pd.DataFrame(response.json()[field])\n",
    "    return df\n"
   ]
  },
  {
   "cell_type": "code",
   "execution_count": 2,
   "metadata": {
    "ExecuteTime": {
     "end_time": "2020-02-21T21:58:19.470575Z",
     "start_time": "2020-02-21T21:58:17.565336Z"
    },
    "scrolled": false
   },
   "outputs": [
    {
     "data": {
      "text/html": [
       "<div>\n",
       "<style scoped>\n",
       "    .dataframe tbody tr th:only-of-type {\n",
       "        vertical-align: middle;\n",
       "    }\n",
       "\n",
       "    .dataframe tbody tr th {\n",
       "        vertical-align: top;\n",
       "    }\n",
       "\n",
       "    .dataframe thead th {\n",
       "        text-align: right;\n",
       "    }\n",
       "</style>\n",
       "<table border=\"1\" class=\"dataframe\">\n",
       "  <thead>\n",
       "    <tr style=\"text-align: right;\">\n",
       "      <th></th>\n",
       "      <th>created_at</th>\n",
       "      <th>id</th>\n",
       "      <th>ipdb_id</th>\n",
       "      <th>ipdb_link</th>\n",
       "      <th>is_active</th>\n",
       "      <th>machine_group_id</th>\n",
       "      <th>manufacturer</th>\n",
       "      <th>name</th>\n",
       "      <th>opdb_id</th>\n",
       "      <th>updated_at</th>\n",
       "      <th>year</th>\n",
       "    </tr>\n",
       "  </thead>\n",
       "  <tbody>\n",
       "    <tr>\n",
       "      <th>0</th>\n",
       "      <td>2016-08-05T17:52:19.366-07:00</td>\n",
       "      <td>2694</td>\n",
       "      <td>6417.0</td>\n",
       "      <td>https://www.ipdb.org/machine.cgi?id=6417</td>\n",
       "      <td>False</td>\n",
       "      <td>58.0</td>\n",
       "      <td>Spooky Pinball</td>\n",
       "      <td>Rob Zombie's Spookshow International (LE)</td>\n",
       "      <td>G5pp2-MBRK4</td>\n",
       "      <td>2018-07-17T11:31:02.934-07:00</td>\n",
       "      <td>2016</td>\n",
       "    </tr>\n",
       "    <tr>\n",
       "      <th>1</th>\n",
       "      <td>None</td>\n",
       "      <td>676</td>\n",
       "      <td>5163.0</td>\n",
       "      <td>http://ipdb.org/machine.cgi?id=5163</td>\n",
       "      <td>False</td>\n",
       "      <td>NaN</td>\n",
       "      <td>Stern</td>\n",
       "      <td>Pirates of the Caribbean</td>\n",
       "      <td>GR7ZX-MQ23b</td>\n",
       "      <td>2018-07-16T09:00:50.066-07:00</td>\n",
       "      <td>2006</td>\n",
       "    </tr>\n",
       "    <tr>\n",
       "      <th>2</th>\n",
       "      <td>2014-02-26T11:22:21.790-08:00</td>\n",
       "      <td>1968</td>\n",
       "      <td>483.0</td>\n",
       "      <td>http://ipdb.org/machine.cgi?id=483</td>\n",
       "      <td>False</td>\n",
       "      <td>NaN</td>\n",
       "      <td>Gottlieb</td>\n",
       "      <td>Challenger</td>\n",
       "      <td>G50L9-MDxXD</td>\n",
       "      <td>2018-07-16T09:00:41.586-07:00</td>\n",
       "      <td>1971</td>\n",
       "    </tr>\n",
       "    <tr>\n",
       "      <th>3</th>\n",
       "      <td>2013-06-28T20:55:47.875-07:00</td>\n",
       "      <td>1679</td>\n",
       "      <td>527.0</td>\n",
       "      <td>http://ipdb.org/machine.cgi?id=527</td>\n",
       "      <td>False</td>\n",
       "      <td>NaN</td>\n",
       "      <td>Bally</td>\n",
       "      <td>City Slicker</td>\n",
       "      <td>GrEVb-MLOxJ</td>\n",
       "      <td>2018-07-16T09:00:41.673-07:00</td>\n",
       "      <td>1987</td>\n",
       "    </tr>\n",
       "    <tr>\n",
       "      <th>4</th>\n",
       "      <td>None</td>\n",
       "      <td>727</td>\n",
       "      <td>874.0</td>\n",
       "      <td>http://ipdb.org/machine.cgi?id=874</td>\n",
       "      <td>False</td>\n",
       "      <td>NaN</td>\n",
       "      <td>Bally</td>\n",
       "      <td>Flash Gordon</td>\n",
       "      <td>G5728-MDbjD</td>\n",
       "      <td>2018-07-16T09:00:41.689-07:00</td>\n",
       "      <td>1980</td>\n",
       "    </tr>\n",
       "  </tbody>\n",
       "</table>\n",
       "</div>"
      ],
      "text/plain": [
       "                      created_at    id  ipdb_id  \\\n",
       "0  2016-08-05T17:52:19.366-07:00  2694   6417.0   \n",
       "1                           None   676   5163.0   \n",
       "2  2014-02-26T11:22:21.790-08:00  1968    483.0   \n",
       "3  2013-06-28T20:55:47.875-07:00  1679    527.0   \n",
       "4                           None   727    874.0   \n",
       "\n",
       "                                  ipdb_link is_active  machine_group_id  \\\n",
       "0  https://www.ipdb.org/machine.cgi?id=6417     False              58.0   \n",
       "1       http://ipdb.org/machine.cgi?id=5163     False               NaN   \n",
       "2        http://ipdb.org/machine.cgi?id=483     False               NaN   \n",
       "3        http://ipdb.org/machine.cgi?id=527     False               NaN   \n",
       "4        http://ipdb.org/machine.cgi?id=874     False               NaN   \n",
       "\n",
       "     manufacturer                                       name      opdb_id  \\\n",
       "0  Spooky Pinball  Rob Zombie's Spookshow International (LE)  G5pp2-MBRK4   \n",
       "1           Stern                   Pirates of the Caribbean  GR7ZX-MQ23b   \n",
       "2        Gottlieb                                 Challenger  G50L9-MDxXD   \n",
       "3           Bally                               City Slicker  GrEVb-MLOxJ   \n",
       "4           Bally                               Flash Gordon  G5728-MDbjD   \n",
       "\n",
       "                      updated_at  year  \n",
       "0  2018-07-17T11:31:02.934-07:00  2016  \n",
       "1  2018-07-16T09:00:50.066-07:00  2006  \n",
       "2  2018-07-16T09:00:41.586-07:00  1971  \n",
       "3  2018-07-16T09:00:41.673-07:00  1987  \n",
       "4  2018-07-16T09:00:41.689-07:00  1980  "
      ]
     },
     "execution_count": 2,
     "metadata": {},
     "output_type": "execute_result"
    }
   ],
   "source": [
    "# Get data on machines\n",
    "machines = api_call('https://pinballmap.com/api/v1/machines.json', 'machines')\n",
    "machines.head()"
   ]
  },
  {
   "cell_type": "code",
   "execution_count": 36,
   "metadata": {
    "ExecuteTime": {
     "end_time": "2020-02-21T15:58:31.163761Z",
     "start_time": "2020-02-21T15:58:31.142360Z"
    },
    "scrolled": false
   },
   "outputs": [
    {
     "name": "stdout",
     "output_type": "stream",
     "text": [
      "<class 'pandas.core.frame.DataFrame'>\n",
      "RangeIndex: 1153 entries, 0 to 1152\n",
      "Data columns (total 11 columns):\n",
      "created_at          750 non-null object\n",
      "id                  1153 non-null int64\n",
      "ipdb_id             1086 non-null float64\n",
      "ipdb_link           1153 non-null object\n",
      "is_active           872 non-null object\n",
      "machine_group_id    138 non-null float64\n",
      "manufacturer        1153 non-null object\n",
      "name                1153 non-null object\n",
      "opdb_id             1076 non-null object\n",
      "updated_at          1153 non-null object\n",
      "year                1153 non-null int64\n",
      "dtypes: float64(2), int64(2), object(7)\n",
      "memory usage: 99.2+ KB\n"
     ]
    }
   ],
   "source": [
    "# Check data types and missing values\n",
    "machines.info()"
   ]
  },
  {
   "cell_type": "markdown",
   "metadata": {},
   "source": [
    "The printout above reveals that there are some fields with a lot of missing values. I'll check this again once I join the rest of the data. "
   ]
  },
  {
   "cell_type": "markdown",
   "metadata": {},
   "source": [
    "# Define scraping functions"
   ]
  },
  {
   "cell_type": "markdown",
   "metadata": {},
   "source": [
    "For now, I'm just writing some functions to scrape the data I want from the Internet Pinball Database. Later, I may come along and refactor these functions as methods of a class."
   ]
  },
  {
   "cell_type": "code",
   "execution_count": 7,
   "metadata": {
    "ExecuteTime": {
     "end_time": "2020-02-21T21:59:44.067633Z",
     "start_time": "2020-02-21T21:59:44.038495Z"
    }
   },
   "outputs": [],
   "source": [
    "# Define functions to scrape desired data from pages\n",
    "\n",
    "# Define a function to scrape a page into a bs4 object\n",
    "def get_data_table(url):\n",
    "    '''Returns main table data from web page as type bs4.element.ResultSet.\n",
    "       Dependencies: bs4.BeautifulSoup, requests'''\n",
    "    \n",
    "    html_page = requests.get(url)\n",
    "    soup = BeautifulSoup(html_page.content, 'html.parser')\n",
    "    table = soup.find('table')\n",
    "    table_contents = (table.nextSibling.nextSibling.nextSibling.nextSibling\n",
    "                      .nextSibling.nextSibling.nextSibling.nextSibling\n",
    "                      .nextSibling)\n",
    "    table_data = table_contents.findAll('tr')\n",
    "    return table_data\n",
    "       \n",
    "# Define a function to extract the IPD ID from a url\n",
    "def get_id(url):\n",
    "    '''Extracts machine's IPD ID from url.'''\n",
    "    idx = int(re.findall(r'=(\\d+)', str(url))[0])\n",
    "    return idx\n",
    "\n",
    "# Define a function to extract the star rating\n",
    "def get_rating(table_data):\n",
    "    '''Returns game rating from table data.\n",
    "       Dependencies: bs4.BeautifulSoup, re'''\n",
    "    \n",
    "    if (('No ratings on file' in str(table_data)) \n",
    "        or ('Needs More Ratings!' in str(table_data))):\n",
    "        value = None\n",
    "    else: \n",
    "        value = int(re.findall(r'/(\\d+)stars.png', str(table_data))[0])\n",
    "    return value\n",
    "\n",
    "# Define a function to extract the date of manufacture\n",
    "def get_date(table_data):\n",
    "    '''Returns date of manufacture from table data.\n",
    "       Dependencies: bs4.BeautifulSoup, re'''\n",
    "    \n",
    "    if (('Date of Manufacture' in str(table_data)) \n",
    "        or ('Project Date' in str(table_data))):\n",
    "        date = int(re.findall(r',\\s(\\d{4})', str(table_data))[0])\n",
    "        return date\n",
    "    else:\n",
    "        return None\n",
    "\n",
    "# Define a function to extract number of flippers\n",
    "def get_flippers(table_data):\n",
    "    '''Returns number of flippers from table data.\n",
    "       Dependencies: bs4.BeautifulSoup, re'''\n",
    "    \n",
    "    if 'Flippers</a> (' in str(table_data):\n",
    "        flippers = (int(str(table_data).split('Flippers</a> (')[1]\n",
    "                        .split(')')[0]))\n",
    "        return flippers\n",
    "    else:\n",
    "        return None\n",
    "\n",
    "# Define a function to extract number of units manufactured\n",
    "def get_units(table_data):\n",
    "    '''Returns number of units manufactured from table data.\n",
    "       Dependencies: bs4.BeautifulSoup, re'''\n",
    "    \n",
    "    if 'Production:' in str(table_data):\n",
    "        units = int(re.findall(r'>(\\d+\\,?\\d+)\\sunits', \n",
    "                               str(table_data))[0].replace(',', '')) \n",
    "        return units\n",
    "    else:\n",
    "        return None\n",
    "\n",
    "# Define a function to scrape all the desired data into a DataFrame\n",
    "def scrape_urls(urls):\n",
    "    '''Pulls desired data into a DataFrame\n",
    "       Dependencies: bs4.BeautifulSoup, time, requests, re, pandas'''\n",
    "    \n",
    "    # Initialize lists\n",
    "    ids = []\n",
    "    ratings = []\n",
    "    dates = []\n",
    "    flippers = []\n",
    "    units = []\n",
    "        \n",
    "    # Scrape each page and collect data\n",
    "    try:\n",
    "        for url in urls:\n",
    "            if len(url) > 0:\n",
    "                table_data = get_data_table(url)\n",
    "                ids.append(get_id(url))\n",
    "                ratings.append(get_rating(table_data))\n",
    "                dates.append(get_date(table_data))\n",
    "                flippers.append(get_flippers(table_data))\n",
    "                units.append(get_units(table_data))\n",
    "                \n",
    "                # Pause to avoid jamming server\n",
    "                time.sleep(0.1)\n",
    "            else:\n",
    "                continue\n",
    "    \n",
    "    # On error, print the url of the offending page\n",
    "    except (ValueError, KeyError, TypeError, IndexError):\n",
    "        print(get_id(url))\n",
    "    \n",
    "    # Concatenate the results into a DataFrame\n",
    "    results = pd.concat([pd.Series(ids, name='ipd_id'), \n",
    "                         pd.Series(ratings,  name='rating'),\n",
    "                         pd.Series(dates, name='date'),\n",
    "                         pd.Series(flippers, name='flippers'),\n",
    "                         pd.Series(units, name='units')], axis=1)\n",
    "    return results"
   ]
  },
  {
   "cell_type": "markdown",
   "metadata": {},
   "source": [
    "The last function wraps the previous ones and returns a DataFrame containing the ID, rating, dates of manufacture, number of flippers, and number of units manufactured for each machine represented in the API response above. Note that I included a tiny pause after scraping each page to avoid overloading the server."
   ]
  },
  {
   "cell_type": "markdown",
   "metadata": {},
   "source": [
    "# Test scraping functions"
   ]
  },
  {
   "cell_type": "markdown",
   "metadata": {},
   "source": [
    "Before scraping all 1153 urls that I need, let's do a quick test to make sure things are working as expected."
   ]
  },
  {
   "cell_type": "code",
   "execution_count": 8,
   "metadata": {
    "ExecuteTime": {
     "end_time": "2020-02-21T21:59:46.078835Z",
     "start_time": "2020-02-21T21:59:46.068807Z"
    }
   },
   "outputs": [
    {
     "data": {
      "text/plain": [
       "['http://ipdb.org/machine.cgi?id=3667',\n",
       " 'http://ipdb.org/machine.cgi?id=4692',\n",
       " 'http://www.ipdb.org/machine.cgi?id=1622',\n",
       " 'http://ipdb.org/machine.cgi?id=4358',\n",
       " 'http://ipdb.org/machine.cgi?id=1871',\n",
       " 'http://ipdb.org/machine.cgi?id=828',\n",
       " 'http://ipdb.org/machine.cgi?id=2506',\n",
       " 'http://ipdb.org/machine.cgi?id=4540',\n",
       " 'http://ipdb.org/machine.cgi?id=2165',\n",
       " 'http://www.ipdb.org/machine.cgi?id=2355']"
      ]
     },
     "execution_count": 8,
     "metadata": {},
     "output_type": "execute_result"
    }
   ],
   "source": [
    "# Get a group of urls to scrape\n",
    "sample_urls = list(machines['ipdb_link'][30:40])\n",
    "sample_urls"
   ]
  },
  {
   "cell_type": "code",
   "execution_count": 9,
   "metadata": {
    "ExecuteTime": {
     "end_time": "2020-02-21T22:00:13.343146Z",
     "start_time": "2020-02-21T21:59:46.943360Z"
    },
    "scrolled": true
   },
   "outputs": [
    {
     "data": {
      "text/html": [
       "<div>\n",
       "<style scoped>\n",
       "    .dataframe tbody tr th:only-of-type {\n",
       "        vertical-align: middle;\n",
       "    }\n",
       "\n",
       "    .dataframe tbody tr th {\n",
       "        vertical-align: top;\n",
       "    }\n",
       "\n",
       "    .dataframe thead th {\n",
       "        text-align: right;\n",
       "    }\n",
       "</style>\n",
       "<table border=\"1\" class=\"dataframe\">\n",
       "  <thead>\n",
       "    <tr style=\"text-align: right;\">\n",
       "      <th></th>\n",
       "      <th>ipd_id</th>\n",
       "      <th>rating</th>\n",
       "      <th>date</th>\n",
       "      <th>flippers</th>\n",
       "      <th>units</th>\n",
       "    </tr>\n",
       "  </thead>\n",
       "  <tbody>\n",
       "    <tr>\n",
       "      <th>0</th>\n",
       "      <td>3667</td>\n",
       "      <td>NaN</td>\n",
       "      <td>1965.0</td>\n",
       "      <td>2.0</td>\n",
       "      <td>825.0</td>\n",
       "    </tr>\n",
       "    <tr>\n",
       "      <th>1</th>\n",
       "      <td>4692</td>\n",
       "      <td>NaN</td>\n",
       "      <td>NaN</td>\n",
       "      <td>2.0</td>\n",
       "      <td>470.0</td>\n",
       "    </tr>\n",
       "    <tr>\n",
       "      <th>2</th>\n",
       "      <td>1622</td>\n",
       "      <td>7.0</td>\n",
       "      <td>NaN</td>\n",
       "      <td>2.0</td>\n",
       "      <td>4315.0</td>\n",
       "    </tr>\n",
       "    <tr>\n",
       "      <th>3</th>\n",
       "      <td>4358</td>\n",
       "      <td>8.0</td>\n",
       "      <td>NaN</td>\n",
       "      <td>2.0</td>\n",
       "      <td>1369.0</td>\n",
       "    </tr>\n",
       "    <tr>\n",
       "      <th>4</th>\n",
       "      <td>1871</td>\n",
       "      <td>7.0</td>\n",
       "      <td>NaN</td>\n",
       "      <td>2.0</td>\n",
       "      <td>NaN</td>\n",
       "    </tr>\n",
       "    <tr>\n",
       "      <th>5</th>\n",
       "      <td>828</td>\n",
       "      <td>8.0</td>\n",
       "      <td>NaN</td>\n",
       "      <td>2.0</td>\n",
       "      <td>8045.0</td>\n",
       "    </tr>\n",
       "    <tr>\n",
       "      <th>6</th>\n",
       "      <td>2506</td>\n",
       "      <td>8.0</td>\n",
       "      <td>NaN</td>\n",
       "      <td>2.0</td>\n",
       "      <td>1600.0</td>\n",
       "    </tr>\n",
       "    <tr>\n",
       "      <th>7</th>\n",
       "      <td>4540</td>\n",
       "      <td>NaN</td>\n",
       "      <td>NaN</td>\n",
       "      <td>NaN</td>\n",
       "      <td>NaN</td>\n",
       "    </tr>\n",
       "    <tr>\n",
       "      <th>8</th>\n",
       "      <td>2165</td>\n",
       "      <td>7.0</td>\n",
       "      <td>1978.0</td>\n",
       "      <td>NaN</td>\n",
       "      <td>10320.0</td>\n",
       "    </tr>\n",
       "    <tr>\n",
       "      <th>9</th>\n",
       "      <td>2355</td>\n",
       "      <td>7.0</td>\n",
       "      <td>1979.0</td>\n",
       "      <td>2.0</td>\n",
       "      <td>16842.0</td>\n",
       "    </tr>\n",
       "  </tbody>\n",
       "</table>\n",
       "</div>"
      ],
      "text/plain": [
       "   ipd_id  rating    date  flippers    units\n",
       "0    3667     NaN  1965.0       2.0    825.0\n",
       "1    4692     NaN     NaN       2.0    470.0\n",
       "2    1622     7.0     NaN       2.0   4315.0\n",
       "3    4358     8.0     NaN       2.0   1369.0\n",
       "4    1871     7.0     NaN       2.0      NaN\n",
       "5     828     8.0     NaN       2.0   8045.0\n",
       "6    2506     8.0     NaN       2.0   1600.0\n",
       "7    4540     NaN     NaN       NaN      NaN\n",
       "8    2165     7.0  1978.0       NaN  10320.0\n",
       "9    2355     7.0  1979.0       2.0  16842.0"
      ]
     },
     "execution_count": 9,
     "metadata": {},
     "output_type": "execute_result"
    }
   ],
   "source": [
    "# Scrape selected urls\n",
    "sample_df = scrape_urls(sample_urls)\n",
    "sample_df.head(10)"
   ]
  },
  {
   "cell_type": "markdown",
   "metadata": {},
   "source": [
    "There are a lot of NaNs, but I can resolve those along with the rest of the missing values later. For now, this looks good. "
   ]
  },
  {
   "cell_type": "markdown",
   "metadata": {},
   "source": [
    "# Scrape data for all pinball machines"
   ]
  },
  {
   "cell_type": "markdown",
   "metadata": {},
   "source": [
    "Now I'm ready to scrape all the machine metadata I need. Based on the execution time of the test run, I'm expecting the cell below to take about 49 minutes to run."
   ]
  },
  {
   "cell_type": "code",
   "execution_count": 10,
   "metadata": {
    "ExecuteTime": {
     "end_time": "2020-02-21T22:01:05.118689Z",
     "start_time": "2020-02-21T22:01:05.113238Z"
    }
   },
   "outputs": [],
   "source": [
    "# Scrape data for all machines from API response\n",
    "urls = list(machines['ipdb_link'])\n",
    "scrape_data = scrape_urls(urls)\n",
    "scrape_data.head()"
   ]
  },
  {
   "cell_type": "code",
   "execution_count": null,
   "metadata": {},
   "outputs": [],
   "source": []
  }
 ],
 "metadata": {
  "kernelspec": {
   "display_name": "Python 3",
   "language": "python",
   "name": "python3"
  },
  "language_info": {
   "codemirror_mode": {
    "name": "ipython",
    "version": 3
   },
   "file_extension": ".py",
   "mimetype": "text/x-python",
   "name": "python",
   "nbconvert_exporter": "python",
   "pygments_lexer": "ipython3",
   "version": "3.7.3"
  },
  "toc": {
   "base_numbering": 1,
   "nav_menu": {},
   "number_sections": true,
   "sideBar": true,
   "skip_h1_title": false,
   "title_cell": "Table of Contents",
   "title_sidebar": "Contents",
   "toc_cell": true,
   "toc_position": {},
   "toc_section_display": true,
   "toc_window_display": false
  }
 },
 "nbformat": 4,
 "nbformat_minor": 2
}
