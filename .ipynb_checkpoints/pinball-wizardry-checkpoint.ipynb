{
 "cells": [
  {
   "cell_type": "markdown",
   "metadata": {
    "toc": true
   },
   "source": [
    "<h1>Table of Contents<span class=\"tocSkip\"></span></h1>\n",
    "<div class=\"toc\"><ul class=\"toc-item\"><li><span><a href=\"#Introduction\" data-toc-modified-id=\"Introduction-1\"><span class=\"toc-item-num\">1&nbsp;&nbsp;</span>Introduction</a></span></li><li><span><a href=\"#Get-data-from-Pinball-Map-API\" data-toc-modified-id=\"Get-data-from-Pinball-Map-API-2\"><span class=\"toc-item-num\">2&nbsp;&nbsp;</span>Get data from Pinball Map API</a></span></li><li><span><a href=\"#Define-scraping-functions\" data-toc-modified-id=\"Define-scraping-functions-3\"><span class=\"toc-item-num\">3&nbsp;&nbsp;</span>Define scraping functions</a></span></li><li><span><a href=\"#Test-scraping-functions\" data-toc-modified-id=\"Test-scraping-functions-4\"><span class=\"toc-item-num\">4&nbsp;&nbsp;</span>Test scraping functions</a></span></li><li><span><a href=\"#Scrape-data-for-all-pinball-machines\" data-toc-modified-id=\"Scrape-data-for-all-pinball-machines-5\"><span class=\"toc-item-num\">5&nbsp;&nbsp;</span>Scrape data for all pinball machines</a></span></li></ul></div>"
   ]
  },
  {
   "cell_type": "markdown",
   "metadata": {},
   "source": [
    "# Introduction"
   ]
  },
  {
   "cell_type": "markdown",
   "metadata": {},
   "source": [
    "This is a project about pinball machines, inspired by [Pinball Map](https://pinballmap.com/). In this notebook I fetch data about pinball machines from the Pinball Map API, then join it with data scraped from the [Internet Pinball Database](https://www.ipdb.org/search.pl). Once I have the data how I want it, I'll move it into Tableau to create a dashboard.\n",
    "\n",
    "There's no real research question here; the purpose of this project is to practice my web scraping, regex, and Tableau skills."
   ]
  },
  {
   "cell_type": "markdown",
   "metadata": {},
   "source": [
    "# Get data from Pinball Map API"
   ]
  },
  {
   "cell_type": "markdown",
   "metadata": {},
   "source": [
    "First I need to call up the [Pinball Map API](https://pinballmap.com/api/v1/docs) and fetch data on all the machines in its database."
   ]
  },
  {
   "cell_type": "code",
   "execution_count": 1,
   "metadata": {
    "ExecuteTime": {
     "end_time": "2020-02-26T17:05:20.521733Z",
     "start_time": "2020-02-26T17:05:18.390294Z"
    }
   },
   "outputs": [],
   "source": [
    "# Import packages\n",
    "import re\n",
    "import requests\n",
    "import pandas as pd\n",
    "from bs4 import BeautifulSoup\n",
    "import time\n",
    "\n",
    "# Define function to call API\n",
    "def api_call(url, field):\n",
    "    '''Fetches data from API into DataFrame\n",
    "       Dependencies: requests, pandas'''\n",
    "    \n",
    "    response = requests.get(url)\n",
    "    df = pd.DataFrame(response.json()[field])\n",
    "    return df\n"
   ]
  },
  {
   "cell_type": "code",
   "execution_count": 2,
   "metadata": {
    "ExecuteTime": {
     "end_time": "2020-02-26T17:05:29.347655Z",
     "start_time": "2020-02-26T17:05:21.108448Z"
    },
    "scrolled": false
   },
   "outputs": [
    {
     "data": {
      "text/html": [
       "<div>\n",
       "<style scoped>\n",
       "    .dataframe tbody tr th:only-of-type {\n",
       "        vertical-align: middle;\n",
       "    }\n",
       "\n",
       "    .dataframe tbody tr th {\n",
       "        vertical-align: top;\n",
       "    }\n",
       "\n",
       "    .dataframe thead th {\n",
       "        text-align: right;\n",
       "    }\n",
       "</style>\n",
       "<table border=\"1\" class=\"dataframe\">\n",
       "  <thead>\n",
       "    <tr style=\"text-align: right;\">\n",
       "      <th></th>\n",
       "      <th>id</th>\n",
       "      <th>name</th>\n",
       "      <th>is_active</th>\n",
       "      <th>created_at</th>\n",
       "      <th>updated_at</th>\n",
       "      <th>ipdb_link</th>\n",
       "      <th>year</th>\n",
       "      <th>manufacturer</th>\n",
       "      <th>machine_group_id</th>\n",
       "      <th>ipdb_id</th>\n",
       "      <th>opdb_id</th>\n",
       "    </tr>\n",
       "  </thead>\n",
       "  <tbody>\n",
       "    <tr>\n",
       "      <td>0</td>\n",
       "      <td>2694</td>\n",
       "      <td>Rob Zombie's Spookshow International (LE)</td>\n",
       "      <td>False</td>\n",
       "      <td>2016-08-05T17:52:19.366-07:00</td>\n",
       "      <td>2018-07-17T11:31:02.934-07:00</td>\n",
       "      <td>https://www.ipdb.org/machine.cgi?id=6417</td>\n",
       "      <td>2016</td>\n",
       "      <td>Spooky Pinball</td>\n",
       "      <td>58.0</td>\n",
       "      <td>6417.0</td>\n",
       "      <td>G5pp2-MBRK4</td>\n",
       "    </tr>\n",
       "    <tr>\n",
       "      <td>1</td>\n",
       "      <td>676</td>\n",
       "      <td>Pirates of the Caribbean</td>\n",
       "      <td>False</td>\n",
       "      <td>None</td>\n",
       "      <td>2018-07-16T09:00:50.066-07:00</td>\n",
       "      <td>http://ipdb.org/machine.cgi?id=5163</td>\n",
       "      <td>2006</td>\n",
       "      <td>Stern</td>\n",
       "      <td>NaN</td>\n",
       "      <td>5163.0</td>\n",
       "      <td>GR7ZX-MQ23b</td>\n",
       "    </tr>\n",
       "    <tr>\n",
       "      <td>2</td>\n",
       "      <td>1968</td>\n",
       "      <td>Challenger</td>\n",
       "      <td>False</td>\n",
       "      <td>2014-02-26T11:22:21.790-08:00</td>\n",
       "      <td>2018-07-16T09:00:41.586-07:00</td>\n",
       "      <td>http://ipdb.org/machine.cgi?id=483</td>\n",
       "      <td>1971</td>\n",
       "      <td>Gottlieb</td>\n",
       "      <td>NaN</td>\n",
       "      <td>483.0</td>\n",
       "      <td>G50L9-MDxXD</td>\n",
       "    </tr>\n",
       "    <tr>\n",
       "      <td>3</td>\n",
       "      <td>1679</td>\n",
       "      <td>City Slicker</td>\n",
       "      <td>False</td>\n",
       "      <td>2013-06-28T20:55:47.875-07:00</td>\n",
       "      <td>2018-07-16T09:00:41.673-07:00</td>\n",
       "      <td>http://ipdb.org/machine.cgi?id=527</td>\n",
       "      <td>1987</td>\n",
       "      <td>Bally</td>\n",
       "      <td>NaN</td>\n",
       "      <td>527.0</td>\n",
       "      <td>GrEVb-MLOxJ</td>\n",
       "    </tr>\n",
       "    <tr>\n",
       "      <td>4</td>\n",
       "      <td>727</td>\n",
       "      <td>Flash Gordon</td>\n",
       "      <td>False</td>\n",
       "      <td>None</td>\n",
       "      <td>2018-07-16T09:00:41.689-07:00</td>\n",
       "      <td>http://ipdb.org/machine.cgi?id=874</td>\n",
       "      <td>1980</td>\n",
       "      <td>Bally</td>\n",
       "      <td>NaN</td>\n",
       "      <td>874.0</td>\n",
       "      <td>G5728-MDbjD</td>\n",
       "    </tr>\n",
       "  </tbody>\n",
       "</table>\n",
       "</div>"
      ],
      "text/plain": [
       "     id                                       name is_active  \\\n",
       "0  2694  Rob Zombie's Spookshow International (LE)     False   \n",
       "1   676                   Pirates of the Caribbean     False   \n",
       "2  1968                                 Challenger     False   \n",
       "3  1679                               City Slicker     False   \n",
       "4   727                               Flash Gordon     False   \n",
       "\n",
       "                      created_at                     updated_at  \\\n",
       "0  2016-08-05T17:52:19.366-07:00  2018-07-17T11:31:02.934-07:00   \n",
       "1                           None  2018-07-16T09:00:50.066-07:00   \n",
       "2  2014-02-26T11:22:21.790-08:00  2018-07-16T09:00:41.586-07:00   \n",
       "3  2013-06-28T20:55:47.875-07:00  2018-07-16T09:00:41.673-07:00   \n",
       "4                           None  2018-07-16T09:00:41.689-07:00   \n",
       "\n",
       "                                  ipdb_link  year    manufacturer  \\\n",
       "0  https://www.ipdb.org/machine.cgi?id=6417  2016  Spooky Pinball   \n",
       "1       http://ipdb.org/machine.cgi?id=5163  2006           Stern   \n",
       "2        http://ipdb.org/machine.cgi?id=483  1971        Gottlieb   \n",
       "3        http://ipdb.org/machine.cgi?id=527  1987           Bally   \n",
       "4        http://ipdb.org/machine.cgi?id=874  1980           Bally   \n",
       "\n",
       "   machine_group_id  ipdb_id      opdb_id  \n",
       "0              58.0   6417.0  G5pp2-MBRK4  \n",
       "1               NaN   5163.0  GR7ZX-MQ23b  \n",
       "2               NaN    483.0  G50L9-MDxXD  \n",
       "3               NaN    527.0  GrEVb-MLOxJ  \n",
       "4               NaN    874.0  G5728-MDbjD  "
      ]
     },
     "execution_count": 2,
     "metadata": {},
     "output_type": "execute_result"
    }
   ],
   "source": [
    "# Get data on machines\n",
    "machines = api_call('https://pinballmap.com/api/v1/machines.json', 'machines')\n",
    "machines.head()"
   ]
  },
  {
   "cell_type": "markdown",
   "metadata": {},
   "source": [
    "Below I'm going to scrape webpages associated with each machine, so it's important that each machine have an `ipdb_link`. Let's see how many don't:"
   ]
  },
  {
   "cell_type": "code",
   "execution_count": 3,
   "metadata": {
    "ExecuteTime": {
     "end_time": "2020-02-26T17:05:29.363502Z",
     "start_time": "2020-02-26T17:05:29.350324Z"
    }
   },
   "outputs": [
    {
     "data": {
      "text/plain": [
       "63"
      ]
     },
     "execution_count": 3,
     "metadata": {},
     "output_type": "execute_result"
    }
   ],
   "source": [
    "len(machines[machines['ipdb_link'] == ''])"
   ]
  },
  {
   "cell_type": "markdown",
   "metadata": {},
   "source": [
    "That's not too bad. I can drop the rows with no link."
   ]
  },
  {
   "cell_type": "code",
   "execution_count": 4,
   "metadata": {
    "ExecuteTime": {
     "end_time": "2020-02-26T17:05:29.374184Z",
     "start_time": "2020-02-26T17:05:29.367679Z"
    }
   },
   "outputs": [],
   "source": [
    "# Select rows with valid links\n",
    "machines = machines[machines['ipdb_link'] != '']"
   ]
  },
  {
   "cell_type": "code",
   "execution_count": 5,
   "metadata": {
    "ExecuteTime": {
     "end_time": "2020-02-26T17:05:29.399062Z",
     "start_time": "2020-02-26T17:05:29.377687Z"
    },
    "scrolled": false
   },
   "outputs": [
    {
     "name": "stdout",
     "output_type": "stream",
     "text": [
      "<class 'pandas.core.frame.DataFrame'>\n",
      "Int64Index: 1092 entries, 0 to 1154\n",
      "Data columns (total 11 columns):\n",
      "id                  1092 non-null int64\n",
      "name                1092 non-null object\n",
      "is_active           811 non-null object\n",
      "created_at          690 non-null object\n",
      "updated_at          1092 non-null object\n",
      "ipdb_link           1092 non-null object\n",
      "year                1092 non-null int64\n",
      "manufacturer        1092 non-null object\n",
      "machine_group_id    98 non-null float64\n",
      "ipdb_id             1088 non-null float64\n",
      "opdb_id             1015 non-null object\n",
      "dtypes: float64(2), int64(2), object(7)\n",
      "memory usage: 102.4+ KB\n"
     ]
    }
   ],
   "source": [
    "# Check data types and missing values\n",
    "machines.info()"
   ]
  },
  {
   "cell_type": "markdown",
   "metadata": {},
   "source": [
    "I see that there are four machines that don't have an `ipdb_id` value, but they do have a link. This worries me, since the `ipdb_id` forms part of the `ipdb_link`. Let's inspect these oddballs in detail:"
   ]
  },
  {
   "cell_type": "code",
   "execution_count": 6,
   "metadata": {
    "ExecuteTime": {
     "end_time": "2020-02-26T17:05:29.430665Z",
     "start_time": "2020-02-26T17:05:29.402838Z"
    },
    "scrolled": true
   },
   "outputs": [
    {
     "data": {
      "text/html": [
       "<div>\n",
       "<style scoped>\n",
       "    .dataframe tbody tr th:only-of-type {\n",
       "        vertical-align: middle;\n",
       "    }\n",
       "\n",
       "    .dataframe tbody tr th {\n",
       "        vertical-align: top;\n",
       "    }\n",
       "\n",
       "    .dataframe thead th {\n",
       "        text-align: right;\n",
       "    }\n",
       "</style>\n",
       "<table border=\"1\" class=\"dataframe\">\n",
       "  <thead>\n",
       "    <tr style=\"text-align: right;\">\n",
       "      <th></th>\n",
       "      <th>id</th>\n",
       "      <th>name</th>\n",
       "      <th>is_active</th>\n",
       "      <th>created_at</th>\n",
       "      <th>updated_at</th>\n",
       "      <th>ipdb_link</th>\n",
       "      <th>year</th>\n",
       "      <th>manufacturer</th>\n",
       "      <th>machine_group_id</th>\n",
       "      <th>ipdb_id</th>\n",
       "      <th>opdb_id</th>\n",
       "    </tr>\n",
       "  </thead>\n",
       "  <tbody>\n",
       "    <tr>\n",
       "      <td>1052</td>\n",
       "      <td>1399</td>\n",
       "      <td>Silver Bullet</td>\n",
       "      <td>False</td>\n",
       "      <td>2012-11-02T12:50:00.901-07:00</td>\n",
       "      <td>2019-04-07T12:57:10.877-07:00</td>\n",
       "      <td>http://pinballartist.com/newsroom/fine-art-pri...</td>\n",
       "      <td>2012</td>\n",
       "      <td>Custom</td>\n",
       "      <td>NaN</td>\n",
       "      <td>NaN</td>\n",
       "      <td></td>\n",
       "    </tr>\n",
       "    <tr>\n",
       "      <td>1054</td>\n",
       "      <td>1987</td>\n",
       "      <td>Galaxy Virtual Pinball</td>\n",
       "      <td>False</td>\n",
       "      <td>2014-02-26T12:42:10.354-08:00</td>\n",
       "      <td>2019-04-07T12:59:00.453-07:00</td>\n",
       "      <td>http://www.virtualpinballmachinesrus.com/produ...</td>\n",
       "      <td>2013</td>\n",
       "      <td>VP Cabs</td>\n",
       "      <td>NaN</td>\n",
       "      <td>NaN</td>\n",
       "      <td></td>\n",
       "    </tr>\n",
       "    <tr>\n",
       "      <td>1057</td>\n",
       "      <td>1923</td>\n",
       "      <td>Luther's Vendetta</td>\n",
       "      <td>False</td>\n",
       "      <td>2014-01-22T11:17:55.998-08:00</td>\n",
       "      <td>2019-04-07T13:00:31.371-07:00</td>\n",
       "      <td>http://www.bholderman.com/luthers-vendetta</td>\n",
       "      <td>2009</td>\n",
       "      <td>Custom</td>\n",
       "      <td>NaN</td>\n",
       "      <td>NaN</td>\n",
       "      <td></td>\n",
       "    </tr>\n",
       "    <tr>\n",
       "      <td>1119</td>\n",
       "      <td>1345</td>\n",
       "      <td>Visible Pinball (see-through Surf Champ)</td>\n",
       "      <td>False</td>\n",
       "      <td>2012-08-22T17:33:35.464-07:00</td>\n",
       "      <td>2019-04-07T20:30:40.644-07:00</td>\n",
       "      <td>http://pinballdonutgirl.com/tag/visible-pinbal...</td>\n",
       "      <td>2012</td>\n",
       "      <td>Custom</td>\n",
       "      <td>NaN</td>\n",
       "      <td>NaN</td>\n",
       "      <td></td>\n",
       "    </tr>\n",
       "  </tbody>\n",
       "</table>\n",
       "</div>"
      ],
      "text/plain": [
       "        id                                      name is_active  \\\n",
       "1052  1399                             Silver Bullet     False   \n",
       "1054  1987                    Galaxy Virtual Pinball     False   \n",
       "1057  1923                         Luther's Vendetta     False   \n",
       "1119  1345  Visible Pinball (see-through Surf Champ)     False   \n",
       "\n",
       "                         created_at                     updated_at  \\\n",
       "1052  2012-11-02T12:50:00.901-07:00  2019-04-07T12:57:10.877-07:00   \n",
       "1054  2014-02-26T12:42:10.354-08:00  2019-04-07T12:59:00.453-07:00   \n",
       "1057  2014-01-22T11:17:55.998-08:00  2019-04-07T13:00:31.371-07:00   \n",
       "1119  2012-08-22T17:33:35.464-07:00  2019-04-07T20:30:40.644-07:00   \n",
       "\n",
       "                                              ipdb_link  year manufacturer  \\\n",
       "1052  http://pinballartist.com/newsroom/fine-art-pri...  2012       Custom   \n",
       "1054  http://www.virtualpinballmachinesrus.com/produ...  2013      VP Cabs   \n",
       "1057         http://www.bholderman.com/luthers-vendetta  2009       Custom   \n",
       "1119  http://pinballdonutgirl.com/tag/visible-pinbal...  2012       Custom   \n",
       "\n",
       "      machine_group_id  ipdb_id opdb_id  \n",
       "1052               NaN      NaN          \n",
       "1054               NaN      NaN          \n",
       "1057               NaN      NaN          \n",
       "1119               NaN      NaN          "
      ]
     },
     "execution_count": 6,
     "metadata": {},
     "output_type": "execute_result"
    }
   ],
   "source": [
    "# Inspect rows where `ipdb_id` is null\n",
    "machines[machines['ipdb_id'].isna()]"
   ]
  },
  {
   "cell_type": "markdown",
   "metadata": {},
   "source": [
    "This is not good! IPDB.org pages follow a semi-standardized format, making them fairly easy to scrape. Those links are not to IPDB.org, so my scraping functions won't work on them. I'll drop these four rows, too."
   ]
  },
  {
   "cell_type": "code",
   "execution_count": 7,
   "metadata": {
    "ExecuteTime": {
     "end_time": "2020-02-26T17:05:29.455021Z",
     "start_time": "2020-02-26T17:05:29.435946Z"
    },
    "scrolled": true
   },
   "outputs": [
    {
     "name": "stdout",
     "output_type": "stream",
     "text": [
      "<class 'pandas.core.frame.DataFrame'>\n",
      "Int64Index: 1088 entries, 0 to 1154\n",
      "Data columns (total 11 columns):\n",
      "id                  1088 non-null int64\n",
      "name                1088 non-null object\n",
      "is_active           807 non-null object\n",
      "created_at          686 non-null object\n",
      "updated_at          1088 non-null object\n",
      "ipdb_link           1088 non-null object\n",
      "year                1088 non-null int64\n",
      "manufacturer        1088 non-null object\n",
      "machine_group_id    98 non-null float64\n",
      "ipdb_id             1088 non-null float64\n",
      "opdb_id             1011 non-null object\n",
      "dtypes: float64(2), int64(2), object(7)\n",
      "memory usage: 102.0+ KB\n"
     ]
    }
   ],
   "source": [
    "# Drop NaNs and check results\n",
    "machines.dropna(subset=['ipdb_id'], inplace=True)\n",
    "machines.info()"
   ]
  },
  {
   "cell_type": "markdown",
   "metadata": {},
   "source": [
    "I happen to know (because I've been debugging my scraping functions for some time) that there's one URL that's actually missing the most important part: the IPDB ID at the very end. I'm going to find it and fix it so that page can be scraped."
   ]
  },
  {
   "cell_type": "code",
   "execution_count": 8,
   "metadata": {
    "ExecuteTime": {
     "end_time": "2020-02-26T17:05:29.486989Z",
     "start_time": "2020-02-26T17:05:29.458829Z"
    },
    "scrolled": true
   },
   "outputs": [
    {
     "data": {
      "text/html": [
       "<div>\n",
       "<style scoped>\n",
       "    .dataframe tbody tr th:only-of-type {\n",
       "        vertical-align: middle;\n",
       "    }\n",
       "\n",
       "    .dataframe tbody tr th {\n",
       "        vertical-align: top;\n",
       "    }\n",
       "\n",
       "    .dataframe thead th {\n",
       "        text-align: right;\n",
       "    }\n",
       "</style>\n",
       "<table border=\"1\" class=\"dataframe\">\n",
       "  <thead>\n",
       "    <tr style=\"text-align: right;\">\n",
       "      <th></th>\n",
       "      <th>id</th>\n",
       "      <th>name</th>\n",
       "      <th>is_active</th>\n",
       "      <th>created_at</th>\n",
       "      <th>updated_at</th>\n",
       "      <th>ipdb_link</th>\n",
       "      <th>year</th>\n",
       "      <th>manufacturer</th>\n",
       "      <th>machine_group_id</th>\n",
       "      <th>ipdb_id</th>\n",
       "      <th>opdb_id</th>\n",
       "    </tr>\n",
       "  </thead>\n",
       "  <tbody>\n",
       "    <tr>\n",
       "      <td>970</td>\n",
       "      <td>2833</td>\n",
       "      <td>Attack From Mars (Remake) (Special Edition)</td>\n",
       "      <td>False</td>\n",
       "      <td>2017-06-21T07:36:57.715-07:00</td>\n",
       "      <td>2018-07-30T12:57:26.769-07:00</td>\n",
       "      <td>https://www.ipdb.org/machine.cgi?id=</td>\n",
       "      <td>2017</td>\n",
       "      <td>Chicago Gaming</td>\n",
       "      <td>62.0</td>\n",
       "      <td>6384.0</td>\n",
       "      <td>G4do5-MjBp2</td>\n",
       "    </tr>\n",
       "  </tbody>\n",
       "</table>\n",
       "</div>"
      ],
      "text/plain": [
       "       id                                         name is_active  \\\n",
       "970  2833  Attack From Mars (Remake) (Special Edition)     False   \n",
       "\n",
       "                        created_at                     updated_at  \\\n",
       "970  2017-06-21T07:36:57.715-07:00  2018-07-30T12:57:26.769-07:00   \n",
       "\n",
       "                                ipdb_link  year    manufacturer  \\\n",
       "970  https://www.ipdb.org/machine.cgi?id=  2017  Chicago Gaming   \n",
       "\n",
       "     machine_group_id  ipdb_id      opdb_id  \n",
       "970              62.0   6384.0  G4do5-MjBp2  "
      ]
     },
     "execution_count": 8,
     "metadata": {},
     "output_type": "execute_result"
    }
   ],
   "source": [
    "# Find rows where URL is missing IPDB ID number\n",
    "machines[machines['ipdb_link'] == 'https://www.ipdb.org/machine.cgi?id=']"
   ]
  },
  {
   "cell_type": "code",
   "execution_count": 9,
   "metadata": {
    "ExecuteTime": {
     "end_time": "2020-02-26T17:05:29.499853Z",
     "start_time": "2020-02-26T17:05:29.492220Z"
    }
   },
   "outputs": [],
   "source": [
    "# Fix the faulty URL\n",
    "machines.loc[970, 'ipdb_link'] = 'https://www.ipdb.org/machine.cgi?id=6384'"
   ]
  },
  {
   "cell_type": "markdown",
   "metadata": {},
   "source": [
    "I'm not really bothered by the other fields with missing values, since I don't really expect to use them in my visualization. I'll have another opportunity to resolve them once I've joined this DataFrame with the additional data I'll scrape from IPDB.org."
   ]
  },
  {
   "cell_type": "markdown",
   "metadata": {},
   "source": [
    "# Define scraping functions"
   ]
  },
  {
   "cell_type": "markdown",
   "metadata": {},
   "source": [
    "For now, I'm just writing some functions to scrape the data I want from the Internet Pinball Database. Later, I may come along and refactor these functions as methods of a class."
   ]
  },
  {
   "cell_type": "code",
   "execution_count": 14,
   "metadata": {
    "ExecuteTime": {
     "end_time": "2020-02-26T17:18:28.806067Z",
     "start_time": "2020-02-26T17:18:28.791882Z"
    }
   },
   "outputs": [],
   "source": [
    "# Define functions to scrape desired data from pages\n",
    "\n",
    "# Define a function to scrape a page into a bs4 object\n",
    "def get_data_table(url):\n",
    "    '''Returns main table data from web page as type bs4.element.ResultSet.\n",
    "       Dependencies: bs4.BeautifulSoup, requests'''\n",
    "    \n",
    "    html_page = requests.get(url)\n",
    "    soup = BeautifulSoup(html_page.content, 'html.parser')\n",
    "    table = soup.find('table')\n",
    "    table_contents = (table.nextSibling.nextSibling.nextSibling.nextSibling\n",
    "                      .nextSibling.nextSibling.nextSibling.nextSibling\n",
    "                      .nextSibling)\n",
    "    table_data = table_contents.findAll('tr')\n",
    "    return table_data\n",
    "       \n",
    "# Define a function to extract the IPD ID from a url\n",
    "def get_id(url):\n",
    "    '''Extracts machine's IPD ID from url.'''\n",
    "    idx = int(re.findall(r'=(\\d+)', str(url))[0])\n",
    "    return idx\n",
    "\n",
    "# Define a function to extract the star rating\n",
    "def get_rating(table_data):\n",
    "    '''Returns game rating from table data.\n",
    "       Dependencies: bs4.BeautifulSoup, re'''\n",
    "    \n",
    "    if 'Average Fun Rating' in str(table_data):\n",
    "        if (('No ratings on file' in str(table_data)) \n",
    "            or ('Needs More Ratings!' in str(table_data))):\n",
    "            value = None\n",
    "        else: \n",
    "            value = int(re.findall(r'/(\\d+)stars.png', str(table_data))[0])\n",
    "    else:\n",
    "        value = None\n",
    "        \n",
    "    return value\n",
    "\n",
    "# Define a function to extract number of flippers\n",
    "def get_flippers(table_data):\n",
    "    '''Returns number of flippers from table data.\n",
    "       Dependencies: bs4.BeautifulSoup, re'''\n",
    "    \n",
    "    if 'Flippers</a> (' in str(table_data):      \n",
    "        flippers = int(re.findall(r'Flippers</a>\\s\\((\\d+)', str(table_data))[0])\n",
    "        return flippers\n",
    "    else:\n",
    "        return None\n",
    "\n",
    "# Define a function to extract number of units manufactured\n",
    "def get_units(table_data):\n",
    "    '''Returns number of units manufactured from table data.\n",
    "       Dependencies: bs4.BeautifulSoup, re'''\n",
    "       \n",
    "    if 'Production:' in str(table_data):\n",
    "        if 'Never Produced' in str(table_data):\n",
    "            units = 0\n",
    "        else:\n",
    "            units = int(re.findall(r'\"baseline\">(\\d+,?\\d*)\\sunit', \n",
    "                               str(table_data))[0].replace(',', ''))\n",
    "            return units\n",
    "    else:\n",
    "        return None\n",
    "\n",
    "# Define a function to scrape all the desired data into a DataFrame\n",
    "def scrape_urls(urls):\n",
    "    '''Pulls desired data into a DataFrame\n",
    "       Dependencies: bs4.BeautifulSoup, time, requests, re, pandas'''\n",
    "    \n",
    "    # Initialize lists\n",
    "    ids = []\n",
    "    ratings = []\n",
    "    flippers = []\n",
    "    units = []\n",
    "        \n",
    "    # Scrape each page and collect data\n",
    "    try:\n",
    "        for url in urls:\n",
    "            if len(url) > 0:\n",
    "                table_data = get_data_table(url)\n",
    "                ids.append(get_id(url))\n",
    "                ratings.append(get_rating(table_data))\n",
    "                flippers.append(get_flippers(table_data))\n",
    "                units.append(get_units(table_data))\n",
    "                \n",
    "                # Pause to avoid jamming server\n",
    "                time.sleep(0.1)\n",
    "            else:\n",
    "                continue\n",
    "    \n",
    "    # On error, print the url of the offending page\n",
    "    except (ValueError, KeyError, TypeError, IndexError):\n",
    "        print('The problem child is IDP ID #', get_id(url))\n",
    "    \n",
    "    # Concatenate the results into a DataFrame\n",
    "    results = pd.concat([pd.Series(ids, name='ipd_id'), \n",
    "                         pd.Series(ratings,  name='rating'),\n",
    "                         pd.Series(flippers, name='flippers'),\n",
    "                         pd.Series(units, name='units')], axis=1)\n",
    "    return results"
   ]
  },
  {
   "cell_type": "markdown",
   "metadata": {},
   "source": [
    "The last function wraps the previous ones and returns a DataFrame containing the ID, rating, dates of manufacture, number of flippers, and number of units manufactured for each machine represented in the API response above. Note that I included a tiny pause after scraping each page to avoid overloading the server."
   ]
  },
  {
   "cell_type": "markdown",
   "metadata": {},
   "source": [
    "# Test scraping functions"
   ]
  },
  {
   "cell_type": "markdown",
   "metadata": {},
   "source": [
    "Before scraping all 1153 urls that I need, let's do a quick test to make sure things are working as expected."
   ]
  },
  {
   "cell_type": "code",
   "execution_count": 5,
   "metadata": {
    "ExecuteTime": {
     "end_time": "2020-02-24T21:16:20.422668Z",
     "start_time": "2020-02-24T21:16:20.410703Z"
    }
   },
   "outputs": [
    {
     "data": {
      "text/plain": [
       "['http://ipdb.org/machine.cgi?id=3667',\n",
       " 'http://ipdb.org/machine.cgi?id=4692',\n",
       " 'http://www.ipdb.org/machine.cgi?id=1622',\n",
       " 'http://ipdb.org/machine.cgi?id=4358',\n",
       " 'http://ipdb.org/machine.cgi?id=1871',\n",
       " 'http://ipdb.org/machine.cgi?id=828',\n",
       " 'http://ipdb.org/machine.cgi?id=2506',\n",
       " 'http://ipdb.org/machine.cgi?id=4540',\n",
       " 'http://ipdb.org/machine.cgi?id=2165',\n",
       " 'http://www.ipdb.org/machine.cgi?id=2355']"
      ]
     },
     "execution_count": 5,
     "metadata": {},
     "output_type": "execute_result"
    }
   ],
   "source": [
    "# Get a group of urls to scrape\n",
    "sample_urls = list(machines['ipdb_link'][30:40])\n",
    "sample_urls"
   ]
  },
  {
   "cell_type": "code",
   "execution_count": 6,
   "metadata": {
    "ExecuteTime": {
     "end_time": "2020-02-24T21:16:45.639314Z",
     "start_time": "2020-02-24T21:16:22.092284Z"
    },
    "scrolled": true
   },
   "outputs": [
    {
     "data": {
      "text/html": [
       "<div>\n",
       "<style scoped>\n",
       "    .dataframe tbody tr th:only-of-type {\n",
       "        vertical-align: middle;\n",
       "    }\n",
       "\n",
       "    .dataframe tbody tr th {\n",
       "        vertical-align: top;\n",
       "    }\n",
       "\n",
       "    .dataframe thead th {\n",
       "        text-align: right;\n",
       "    }\n",
       "</style>\n",
       "<table border=\"1\" class=\"dataframe\">\n",
       "  <thead>\n",
       "    <tr style=\"text-align: right;\">\n",
       "      <th></th>\n",
       "      <th>ipd_id</th>\n",
       "      <th>rating</th>\n",
       "      <th>flippers</th>\n",
       "      <th>units</th>\n",
       "    </tr>\n",
       "  </thead>\n",
       "  <tbody>\n",
       "    <tr>\n",
       "      <th>0</th>\n",
       "      <td>3667</td>\n",
       "      <td>NaN</td>\n",
       "      <td>2.0</td>\n",
       "      <td>825.0</td>\n",
       "    </tr>\n",
       "    <tr>\n",
       "      <th>1</th>\n",
       "      <td>4692</td>\n",
       "      <td>NaN</td>\n",
       "      <td>2.0</td>\n",
       "      <td>470.0</td>\n",
       "    </tr>\n",
       "    <tr>\n",
       "      <th>2</th>\n",
       "      <td>1622</td>\n",
       "      <td>7.0</td>\n",
       "      <td>2.0</td>\n",
       "      <td>4315.0</td>\n",
       "    </tr>\n",
       "    <tr>\n",
       "      <th>3</th>\n",
       "      <td>4358</td>\n",
       "      <td>8.0</td>\n",
       "      <td>2.0</td>\n",
       "      <td>1369.0</td>\n",
       "    </tr>\n",
       "    <tr>\n",
       "      <th>4</th>\n",
       "      <td>1871</td>\n",
       "      <td>7.0</td>\n",
       "      <td>2.0</td>\n",
       "      <td>NaN</td>\n",
       "    </tr>\n",
       "    <tr>\n",
       "      <th>5</th>\n",
       "      <td>828</td>\n",
       "      <td>8.0</td>\n",
       "      <td>2.0</td>\n",
       "      <td>8045.0</td>\n",
       "    </tr>\n",
       "    <tr>\n",
       "      <th>6</th>\n",
       "      <td>2506</td>\n",
       "      <td>8.0</td>\n",
       "      <td>2.0</td>\n",
       "      <td>1600.0</td>\n",
       "    </tr>\n",
       "    <tr>\n",
       "      <th>7</th>\n",
       "      <td>4540</td>\n",
       "      <td>NaN</td>\n",
       "      <td>NaN</td>\n",
       "      <td>NaN</td>\n",
       "    </tr>\n",
       "    <tr>\n",
       "      <th>8</th>\n",
       "      <td>2165</td>\n",
       "      <td>7.0</td>\n",
       "      <td>NaN</td>\n",
       "      <td>10320.0</td>\n",
       "    </tr>\n",
       "    <tr>\n",
       "      <th>9</th>\n",
       "      <td>2355</td>\n",
       "      <td>7.0</td>\n",
       "      <td>2.0</td>\n",
       "      <td>16842.0</td>\n",
       "    </tr>\n",
       "  </tbody>\n",
       "</table>\n",
       "</div>"
      ],
      "text/plain": [
       "   ipd_id  rating  flippers    units\n",
       "0    3667     NaN       2.0    825.0\n",
       "1    4692     NaN       2.0    470.0\n",
       "2    1622     7.0       2.0   4315.0\n",
       "3    4358     8.0       2.0   1369.0\n",
       "4    1871     7.0       2.0      NaN\n",
       "5     828     8.0       2.0   8045.0\n",
       "6    2506     8.0       2.0   1600.0\n",
       "7    4540     NaN       NaN      NaN\n",
       "8    2165     7.0       NaN  10320.0\n",
       "9    2355     7.0       2.0  16842.0"
      ]
     },
     "execution_count": 6,
     "metadata": {},
     "output_type": "execute_result"
    }
   ],
   "source": [
    "# Scrape selected urls\n",
    "sample_df = scrape_urls(sample_urls)\n",
    "sample_df.head(10)"
   ]
  },
  {
   "cell_type": "markdown",
   "metadata": {},
   "source": [
    "There are a lot of NaNs, but I can resolve those along with the rest of the missing values later. For now, this looks good. "
   ]
  },
  {
   "cell_type": "markdown",
   "metadata": {},
   "source": [
    "# Scrape data for all pinball machines"
   ]
  },
  {
   "cell_type": "markdown",
   "metadata": {},
   "source": [
    "Now I'm ready to scrape all the machine metadata I need. To help me gauge progress, I'm going to scrape the URLs 100 at a time. Based on past experiments, I expect each group of 100 to take about 6 minutes, and the whole scrape to take around an hour."
   ]
  },
  {
   "cell_type": "code",
   "execution_count": 12,
   "metadata": {
    "ExecuteTime": {
     "end_time": "2020-02-26T17:18:13.788205Z",
     "start_time": "2020-02-26T17:18:13.783255Z"
    }
   },
   "outputs": [],
   "source": [
    "urls = list(machines['ipdb_link'])\n",
    "n = 100\n",
    "chunks = [urls[i * n:(i + 1) * n] for i in range((len(urls) + n - 1) // n )]"
   ]
  },
  {
   "cell_type": "code",
   "execution_count": 16,
   "metadata": {
    "ExecuteTime": {
     "end_time": "2020-02-26T18:16:27.675542Z",
     "start_time": "2020-02-26T17:19:20.769317Z"
    },
    "scrolled": false
   },
   "outputs": [
    {
     "name": "stdout",
     "output_type": "stream",
     "text": [
      "Chunk 1 complete\n",
      "Chunk 2 complete\n",
      "Chunk 3 complete\n",
      "Chunk 4 complete\n",
      "Chunk 5 complete\n",
      "Chunk 6 complete\n",
      "Chunk 7 complete\n",
      "Chunk 8 complete\n",
      "Chunk 9 complete\n",
      "Chunk 10 complete\n",
      "Chunk 11 complete\n"
     ]
    }
   ],
   "source": [
    "dfs = []\n",
    "counter = 0\n",
    "for chunk in chunks:\n",
    "    scrape_data = scrape_urls(chunk)\n",
    "    dfs.append(scrape_data)\n",
    "    counter += 1\n",
    "    print('Chunk {} complete'.format(counter))"
   ]
  },
  {
   "cell_type": "code",
   "execution_count": 17,
   "metadata": {
    "ExecuteTime": {
     "end_time": "2020-02-26T18:16:34.033601Z",
     "start_time": "2020-02-26T18:16:34.018029Z"
    }
   },
   "outputs": [
    {
     "data": {
      "text/plain": [
       "1088"
      ]
     },
     "execution_count": 17,
     "metadata": {},
     "output_type": "execute_result"
    }
   ],
   "source": [
    "all_scrape_data = pd.concat(dfs, axis=0)\n",
    "len(all_scrape_data)"
   ]
  },
  {
   "cell_type": "code",
   "execution_count": 18,
   "metadata": {
    "ExecuteTime": {
     "end_time": "2020-02-26T18:16:52.221361Z",
     "start_time": "2020-02-26T18:16:52.206376Z"
    }
   },
   "outputs": [
    {
     "data": {
      "text/html": [
       "<div>\n",
       "<style scoped>\n",
       "    .dataframe tbody tr th:only-of-type {\n",
       "        vertical-align: middle;\n",
       "    }\n",
       "\n",
       "    .dataframe tbody tr th {\n",
       "        vertical-align: top;\n",
       "    }\n",
       "\n",
       "    .dataframe thead th {\n",
       "        text-align: right;\n",
       "    }\n",
       "</style>\n",
       "<table border=\"1\" class=\"dataframe\">\n",
       "  <thead>\n",
       "    <tr style=\"text-align: right;\">\n",
       "      <th></th>\n",
       "      <th>ipd_id</th>\n",
       "      <th>rating</th>\n",
       "      <th>flippers</th>\n",
       "      <th>units</th>\n",
       "    </tr>\n",
       "  </thead>\n",
       "  <tbody>\n",
       "    <tr>\n",
       "      <td>0</td>\n",
       "      <td>6417</td>\n",
       "      <td>NaN</td>\n",
       "      <td>3.0</td>\n",
       "      <td>50.0</td>\n",
       "    </tr>\n",
       "    <tr>\n",
       "      <td>1</td>\n",
       "      <td>5163</td>\n",
       "      <td>8.0</td>\n",
       "      <td>NaN</td>\n",
       "      <td>NaN</td>\n",
       "    </tr>\n",
       "    <tr>\n",
       "      <td>2</td>\n",
       "      <td>483</td>\n",
       "      <td>NaN</td>\n",
       "      <td>NaN</td>\n",
       "      <td>110.0</td>\n",
       "    </tr>\n",
       "    <tr>\n",
       "      <td>3</td>\n",
       "      <td>527</td>\n",
       "      <td>NaN</td>\n",
       "      <td>5.0</td>\n",
       "      <td>300.0</td>\n",
       "    </tr>\n",
       "    <tr>\n",
       "      <td>4</td>\n",
       "      <td>874</td>\n",
       "      <td>8.0</td>\n",
       "      <td>3.0</td>\n",
       "      <td>10000.0</td>\n",
       "    </tr>\n",
       "  </tbody>\n",
       "</table>\n",
       "</div>"
      ],
      "text/plain": [
       "   ipd_id  rating  flippers    units\n",
       "0    6417     NaN       3.0     50.0\n",
       "1    5163     8.0       NaN      NaN\n",
       "2     483     NaN       NaN    110.0\n",
       "3     527     NaN       5.0    300.0\n",
       "4     874     8.0       3.0  10000.0"
      ]
     },
     "execution_count": 18,
     "metadata": {},
     "output_type": "execute_result"
    }
   ],
   "source": [
    "all_scrape_data.head()"
   ]
  },
  {
   "cell_type": "code",
   "execution_count": 20,
   "metadata": {
    "ExecuteTime": {
     "end_time": "2020-02-26T18:23:22.629801Z",
     "start_time": "2020-02-26T18:23:22.600612Z"
    },
    "scrolled": true
   },
   "outputs": [
    {
     "data": {
      "text/html": [
       "<div>\n",
       "<style scoped>\n",
       "    .dataframe tbody tr th:only-of-type {\n",
       "        vertical-align: middle;\n",
       "    }\n",
       "\n",
       "    .dataframe tbody tr th {\n",
       "        vertical-align: top;\n",
       "    }\n",
       "\n",
       "    .dataframe thead th {\n",
       "        text-align: right;\n",
       "    }\n",
       "</style>\n",
       "<table border=\"1\" class=\"dataframe\">\n",
       "  <thead>\n",
       "    <tr style=\"text-align: right;\">\n",
       "      <th></th>\n",
       "      <th>id</th>\n",
       "      <th>name</th>\n",
       "      <th>is_active</th>\n",
       "      <th>created_at</th>\n",
       "      <th>updated_at</th>\n",
       "      <th>ipdb_link</th>\n",
       "      <th>year</th>\n",
       "      <th>manufacturer</th>\n",
       "      <th>machine_group_id</th>\n",
       "      <th>ipdb_id</th>\n",
       "      <th>opdb_id</th>\n",
       "      <th>ipd_id</th>\n",
       "    </tr>\n",
       "  </thead>\n",
       "  <tbody>\n",
       "    <tr>\n",
       "      <td>0</td>\n",
       "      <td>2694</td>\n",
       "      <td>Rob Zombie's Spookshow International (LE)</td>\n",
       "      <td>False</td>\n",
       "      <td>2016-08-05T17:52:19.366-07:00</td>\n",
       "      <td>2018-07-17T11:31:02.934-07:00</td>\n",
       "      <td>https://www.ipdb.org/machine.cgi?id=6417</td>\n",
       "      <td>2016</td>\n",
       "      <td>Spooky Pinball</td>\n",
       "      <td>58.0</td>\n",
       "      <td>6417.0</td>\n",
       "      <td>G5pp2-MBRK4</td>\n",
       "      <td>6417</td>\n",
       "    </tr>\n",
       "    <tr>\n",
       "      <td>1</td>\n",
       "      <td>676</td>\n",
       "      <td>Pirates of the Caribbean</td>\n",
       "      <td>False</td>\n",
       "      <td>None</td>\n",
       "      <td>2018-07-16T09:00:50.066-07:00</td>\n",
       "      <td>http://ipdb.org/machine.cgi?id=5163</td>\n",
       "      <td>2006</td>\n",
       "      <td>Stern</td>\n",
       "      <td>NaN</td>\n",
       "      <td>5163.0</td>\n",
       "      <td>GR7ZX-MQ23b</td>\n",
       "      <td>5163</td>\n",
       "    </tr>\n",
       "    <tr>\n",
       "      <td>2</td>\n",
       "      <td>1968</td>\n",
       "      <td>Challenger</td>\n",
       "      <td>False</td>\n",
       "      <td>2014-02-26T11:22:21.790-08:00</td>\n",
       "      <td>2018-07-16T09:00:41.586-07:00</td>\n",
       "      <td>http://ipdb.org/machine.cgi?id=483</td>\n",
       "      <td>1971</td>\n",
       "      <td>Gottlieb</td>\n",
       "      <td>NaN</td>\n",
       "      <td>483.0</td>\n",
       "      <td>G50L9-MDxXD</td>\n",
       "      <td>483</td>\n",
       "    </tr>\n",
       "    <tr>\n",
       "      <td>3</td>\n",
       "      <td>1679</td>\n",
       "      <td>City Slicker</td>\n",
       "      <td>False</td>\n",
       "      <td>2013-06-28T20:55:47.875-07:00</td>\n",
       "      <td>2018-07-16T09:00:41.673-07:00</td>\n",
       "      <td>http://ipdb.org/machine.cgi?id=527</td>\n",
       "      <td>1987</td>\n",
       "      <td>Bally</td>\n",
       "      <td>NaN</td>\n",
       "      <td>527.0</td>\n",
       "      <td>GrEVb-MLOxJ</td>\n",
       "      <td>527</td>\n",
       "    </tr>\n",
       "    <tr>\n",
       "      <td>4</td>\n",
       "      <td>727</td>\n",
       "      <td>Flash Gordon</td>\n",
       "      <td>False</td>\n",
       "      <td>None</td>\n",
       "      <td>2018-07-16T09:00:41.689-07:00</td>\n",
       "      <td>http://ipdb.org/machine.cgi?id=874</td>\n",
       "      <td>1980</td>\n",
       "      <td>Bally</td>\n",
       "      <td>NaN</td>\n",
       "      <td>874.0</td>\n",
       "      <td>G5728-MDbjD</td>\n",
       "      <td>874</td>\n",
       "    </tr>\n",
       "  </tbody>\n",
       "</table>\n",
       "</div>"
      ],
      "text/plain": [
       "     id                                       name is_active  \\\n",
       "0  2694  Rob Zombie's Spookshow International (LE)     False   \n",
       "1   676                   Pirates of the Caribbean     False   \n",
       "2  1968                                 Challenger     False   \n",
       "3  1679                               City Slicker     False   \n",
       "4   727                               Flash Gordon     False   \n",
       "\n",
       "                      created_at                     updated_at  \\\n",
       "0  2016-08-05T17:52:19.366-07:00  2018-07-17T11:31:02.934-07:00   \n",
       "1                           None  2018-07-16T09:00:50.066-07:00   \n",
       "2  2014-02-26T11:22:21.790-08:00  2018-07-16T09:00:41.586-07:00   \n",
       "3  2013-06-28T20:55:47.875-07:00  2018-07-16T09:00:41.673-07:00   \n",
       "4                           None  2018-07-16T09:00:41.689-07:00   \n",
       "\n",
       "                                  ipdb_link  year    manufacturer  \\\n",
       "0  https://www.ipdb.org/machine.cgi?id=6417  2016  Spooky Pinball   \n",
       "1       http://ipdb.org/machine.cgi?id=5163  2006           Stern   \n",
       "2        http://ipdb.org/machine.cgi?id=483  1971        Gottlieb   \n",
       "3        http://ipdb.org/machine.cgi?id=527  1987           Bally   \n",
       "4        http://ipdb.org/machine.cgi?id=874  1980           Bally   \n",
       "\n",
       "   machine_group_id  ipdb_id      opdb_id  ipd_id  \n",
       "0              58.0   6417.0  G5pp2-MBRK4    6417  \n",
       "1               NaN   5163.0  GR7ZX-MQ23b    5163  \n",
       "2               NaN    483.0  G50L9-MDxXD     483  \n",
       "3               NaN    527.0  GrEVb-MLOxJ     527  \n",
       "4               NaN    874.0  G5728-MDbjD     874  "
      ]
     },
     "execution_count": 20,
     "metadata": {},
     "output_type": "execute_result"
    }
   ],
   "source": [
    "machines['ipd_id'] = machines['ipdb_id'].astype('int64')\n",
    "machines.head()"
   ]
  },
  {
   "cell_type": "code",
   "execution_count": 26,
   "metadata": {
    "ExecuteTime": {
     "end_time": "2020-02-26T18:33:13.920462Z",
     "start_time": "2020-02-26T18:33:13.898990Z"
    }
   },
   "outputs": [],
   "source": [
    "machines.drop_duplicates(inplace=True)"
   ]
  },
  {
   "cell_type": "code",
   "execution_count": 28,
   "metadata": {
    "ExecuteTime": {
     "end_time": "2020-02-26T18:34:17.301108Z",
     "start_time": "2020-02-26T18:34:17.276426Z"
    }
   },
   "outputs": [
    {
     "data": {
      "text/html": [
       "<div>\n",
       "<style scoped>\n",
       "    .dataframe tbody tr th:only-of-type {\n",
       "        vertical-align: middle;\n",
       "    }\n",
       "\n",
       "    .dataframe tbody tr th {\n",
       "        vertical-align: top;\n",
       "    }\n",
       "\n",
       "    .dataframe thead th {\n",
       "        text-align: right;\n",
       "    }\n",
       "</style>\n",
       "<table border=\"1\" class=\"dataframe\">\n",
       "  <thead>\n",
       "    <tr style=\"text-align: right;\">\n",
       "      <th></th>\n",
       "      <th>id</th>\n",
       "      <th>name</th>\n",
       "      <th>is_active</th>\n",
       "      <th>created_at</th>\n",
       "      <th>updated_at</th>\n",
       "      <th>ipdb_link</th>\n",
       "      <th>year</th>\n",
       "      <th>manufacturer</th>\n",
       "      <th>machine_group_id</th>\n",
       "      <th>ipdb_id</th>\n",
       "      <th>opdb_id</th>\n",
       "    </tr>\n",
       "    <tr>\n",
       "      <th>ipd_id</th>\n",
       "      <th></th>\n",
       "      <th></th>\n",
       "      <th></th>\n",
       "      <th></th>\n",
       "      <th></th>\n",
       "      <th></th>\n",
       "      <th></th>\n",
       "      <th></th>\n",
       "      <th></th>\n",
       "      <th></th>\n",
       "      <th></th>\n",
       "    </tr>\n",
       "  </thead>\n",
       "  <tbody>\n",
       "    <tr>\n",
       "      <td>6417</td>\n",
       "      <td>2694</td>\n",
       "      <td>Rob Zombie's Spookshow International (LE)</td>\n",
       "      <td>False</td>\n",
       "      <td>2016-08-05T17:52:19.366-07:00</td>\n",
       "      <td>2018-07-17T11:31:02.934-07:00</td>\n",
       "      <td>https://www.ipdb.org/machine.cgi?id=6417</td>\n",
       "      <td>2016</td>\n",
       "      <td>Spooky Pinball</td>\n",
       "      <td>58.0</td>\n",
       "      <td>6417.0</td>\n",
       "      <td>G5pp2-MBRK4</td>\n",
       "    </tr>\n",
       "    <tr>\n",
       "      <td>5163</td>\n",
       "      <td>676</td>\n",
       "      <td>Pirates of the Caribbean</td>\n",
       "      <td>False</td>\n",
       "      <td>None</td>\n",
       "      <td>2018-07-16T09:00:50.066-07:00</td>\n",
       "      <td>http://ipdb.org/machine.cgi?id=5163</td>\n",
       "      <td>2006</td>\n",
       "      <td>Stern</td>\n",
       "      <td>NaN</td>\n",
       "      <td>5163.0</td>\n",
       "      <td>GR7ZX-MQ23b</td>\n",
       "    </tr>\n",
       "    <tr>\n",
       "      <td>483</td>\n",
       "      <td>1968</td>\n",
       "      <td>Challenger</td>\n",
       "      <td>False</td>\n",
       "      <td>2014-02-26T11:22:21.790-08:00</td>\n",
       "      <td>2018-07-16T09:00:41.586-07:00</td>\n",
       "      <td>http://ipdb.org/machine.cgi?id=483</td>\n",
       "      <td>1971</td>\n",
       "      <td>Gottlieb</td>\n",
       "      <td>NaN</td>\n",
       "      <td>483.0</td>\n",
       "      <td>G50L9-MDxXD</td>\n",
       "    </tr>\n",
       "    <tr>\n",
       "      <td>527</td>\n",
       "      <td>1679</td>\n",
       "      <td>City Slicker</td>\n",
       "      <td>False</td>\n",
       "      <td>2013-06-28T20:55:47.875-07:00</td>\n",
       "      <td>2018-07-16T09:00:41.673-07:00</td>\n",
       "      <td>http://ipdb.org/machine.cgi?id=527</td>\n",
       "      <td>1987</td>\n",
       "      <td>Bally</td>\n",
       "      <td>NaN</td>\n",
       "      <td>527.0</td>\n",
       "      <td>GrEVb-MLOxJ</td>\n",
       "    </tr>\n",
       "    <tr>\n",
       "      <td>874</td>\n",
       "      <td>727</td>\n",
       "      <td>Flash Gordon</td>\n",
       "      <td>False</td>\n",
       "      <td>None</td>\n",
       "      <td>2018-07-16T09:00:41.689-07:00</td>\n",
       "      <td>http://ipdb.org/machine.cgi?id=874</td>\n",
       "      <td>1980</td>\n",
       "      <td>Bally</td>\n",
       "      <td>NaN</td>\n",
       "      <td>874.0</td>\n",
       "      <td>G5728-MDbjD</td>\n",
       "    </tr>\n",
       "  </tbody>\n",
       "</table>\n",
       "</div>"
      ],
      "text/plain": [
       "          id                                       name is_active  \\\n",
       "ipd_id                                                              \n",
       "6417    2694  Rob Zombie's Spookshow International (LE)     False   \n",
       "5163     676                   Pirates of the Caribbean     False   \n",
       "483     1968                                 Challenger     False   \n",
       "527     1679                               City Slicker     False   \n",
       "874      727                               Flash Gordon     False   \n",
       "\n",
       "                           created_at                     updated_at  \\\n",
       "ipd_id                                                                 \n",
       "6417    2016-08-05T17:52:19.366-07:00  2018-07-17T11:31:02.934-07:00   \n",
       "5163                             None  2018-07-16T09:00:50.066-07:00   \n",
       "483     2014-02-26T11:22:21.790-08:00  2018-07-16T09:00:41.586-07:00   \n",
       "527     2013-06-28T20:55:47.875-07:00  2018-07-16T09:00:41.673-07:00   \n",
       "874                              None  2018-07-16T09:00:41.689-07:00   \n",
       "\n",
       "                                       ipdb_link  year    manufacturer  \\\n",
       "ipd_id                                                                   \n",
       "6417    https://www.ipdb.org/machine.cgi?id=6417  2016  Spooky Pinball   \n",
       "5163         http://ipdb.org/machine.cgi?id=5163  2006           Stern   \n",
       "483           http://ipdb.org/machine.cgi?id=483  1971        Gottlieb   \n",
       "527           http://ipdb.org/machine.cgi?id=527  1987           Bally   \n",
       "874           http://ipdb.org/machine.cgi?id=874  1980           Bally   \n",
       "\n",
       "        machine_group_id  ipdb_id      opdb_id  \n",
       "ipd_id                                          \n",
       "6417                58.0   6417.0  G5pp2-MBRK4  \n",
       "5163                 NaN   5163.0  GR7ZX-MQ23b  \n",
       "483                  NaN    483.0  G50L9-MDxXD  \n",
       "527                  NaN    527.0  GrEVb-MLOxJ  \n",
       "874                  NaN    874.0  G5728-MDbjD  "
      ]
     },
     "execution_count": 28,
     "metadata": {},
     "output_type": "execute_result"
    }
   ],
   "source": [
    "machines.set_index('ipd_id', inplace=True)\n",
    "machines.head()"
   ]
  },
  {
   "cell_type": "code",
   "execution_count": 29,
   "metadata": {
    "ExecuteTime": {
     "end_time": "2020-02-26T18:34:46.653645Z",
     "start_time": "2020-02-26T18:34:46.636224Z"
    }
   },
   "outputs": [
    {
     "data": {
      "text/html": [
       "<div>\n",
       "<style scoped>\n",
       "    .dataframe tbody tr th:only-of-type {\n",
       "        vertical-align: middle;\n",
       "    }\n",
       "\n",
       "    .dataframe tbody tr th {\n",
       "        vertical-align: top;\n",
       "    }\n",
       "\n",
       "    .dataframe thead th {\n",
       "        text-align: right;\n",
       "    }\n",
       "</style>\n",
       "<table border=\"1\" class=\"dataframe\">\n",
       "  <thead>\n",
       "    <tr style=\"text-align: right;\">\n",
       "      <th></th>\n",
       "      <th>rating</th>\n",
       "      <th>flippers</th>\n",
       "      <th>units</th>\n",
       "    </tr>\n",
       "    <tr>\n",
       "      <th>ipd_id</th>\n",
       "      <th></th>\n",
       "      <th></th>\n",
       "      <th></th>\n",
       "    </tr>\n",
       "  </thead>\n",
       "  <tbody>\n",
       "    <tr>\n",
       "      <td>6417</td>\n",
       "      <td>NaN</td>\n",
       "      <td>3.0</td>\n",
       "      <td>50.0</td>\n",
       "    </tr>\n",
       "    <tr>\n",
       "      <td>5163</td>\n",
       "      <td>8.0</td>\n",
       "      <td>NaN</td>\n",
       "      <td>NaN</td>\n",
       "    </tr>\n",
       "    <tr>\n",
       "      <td>483</td>\n",
       "      <td>NaN</td>\n",
       "      <td>NaN</td>\n",
       "      <td>110.0</td>\n",
       "    </tr>\n",
       "    <tr>\n",
       "      <td>527</td>\n",
       "      <td>NaN</td>\n",
       "      <td>5.0</td>\n",
       "      <td>300.0</td>\n",
       "    </tr>\n",
       "    <tr>\n",
       "      <td>874</td>\n",
       "      <td>8.0</td>\n",
       "      <td>3.0</td>\n",
       "      <td>10000.0</td>\n",
       "    </tr>\n",
       "  </tbody>\n",
       "</table>\n",
       "</div>"
      ],
      "text/plain": [
       "        rating  flippers    units\n",
       "ipd_id                           \n",
       "6417       NaN       3.0     50.0\n",
       "5163       8.0       NaN      NaN\n",
       "483        NaN       NaN    110.0\n",
       "527        NaN       5.0    300.0\n",
       "874        8.0       3.0  10000.0"
      ]
     },
     "execution_count": 29,
     "metadata": {},
     "output_type": "execute_result"
    }
   ],
   "source": [
    "all_scrape_data.set_index('ipd_id', inplace=True)\n",
    "all_scrape_data.head()"
   ]
  },
  {
   "cell_type": "code",
   "execution_count": 30,
   "metadata": {
    "ExecuteTime": {
     "end_time": "2020-02-26T18:35:02.513654Z",
     "start_time": "2020-02-26T18:35:02.482296Z"
    }
   },
   "outputs": [
    {
     "data": {
      "text/html": [
       "<div>\n",
       "<style scoped>\n",
       "    .dataframe tbody tr th:only-of-type {\n",
       "        vertical-align: middle;\n",
       "    }\n",
       "\n",
       "    .dataframe tbody tr th {\n",
       "        vertical-align: top;\n",
       "    }\n",
       "\n",
       "    .dataframe thead th {\n",
       "        text-align: right;\n",
       "    }\n",
       "</style>\n",
       "<table border=\"1\" class=\"dataframe\">\n",
       "  <thead>\n",
       "    <tr style=\"text-align: right;\">\n",
       "      <th></th>\n",
       "      <th>id</th>\n",
       "      <th>name</th>\n",
       "      <th>is_active</th>\n",
       "      <th>created_at</th>\n",
       "      <th>updated_at</th>\n",
       "      <th>ipdb_link</th>\n",
       "      <th>year</th>\n",
       "      <th>manufacturer</th>\n",
       "      <th>machine_group_id</th>\n",
       "      <th>ipdb_id</th>\n",
       "      <th>opdb_id</th>\n",
       "      <th>rating</th>\n",
       "      <th>flippers</th>\n",
       "      <th>units</th>\n",
       "    </tr>\n",
       "    <tr>\n",
       "      <th>ipd_id</th>\n",
       "      <th></th>\n",
       "      <th></th>\n",
       "      <th></th>\n",
       "      <th></th>\n",
       "      <th></th>\n",
       "      <th></th>\n",
       "      <th></th>\n",
       "      <th></th>\n",
       "      <th></th>\n",
       "      <th></th>\n",
       "      <th></th>\n",
       "      <th></th>\n",
       "      <th></th>\n",
       "      <th></th>\n",
       "    </tr>\n",
       "  </thead>\n",
       "  <tbody>\n",
       "    <tr>\n",
       "      <td>2</td>\n",
       "      <td>1263</td>\n",
       "      <td>Abra Ca Dabra</td>\n",
       "      <td>False</td>\n",
       "      <td>2012-03-22T16:20:10.000-07:00</td>\n",
       "      <td>2018-07-16T09:00:52.050-07:00</td>\n",
       "      <td>http://ipdb.org/machine.cgi?id=2</td>\n",
       "      <td>1975</td>\n",
       "      <td>Gottlieb</td>\n",
       "      <td>NaN</td>\n",
       "      <td>2.0</td>\n",
       "      <td>GRpZ2-MkPyb</td>\n",
       "      <td>8.0</td>\n",
       "      <td>2.0</td>\n",
       "      <td>2825.0</td>\n",
       "    </tr>\n",
       "    <tr>\n",
       "      <td>7</td>\n",
       "      <td>1961</td>\n",
       "      <td>Ace High</td>\n",
       "      <td>False</td>\n",
       "      <td>2014-02-26T11:13:13.174-08:00</td>\n",
       "      <td>2018-07-16T09:00:53.787-07:00</td>\n",
       "      <td>http://ipdb.org/machine.cgi?id=7</td>\n",
       "      <td>1957</td>\n",
       "      <td>Gottlieb</td>\n",
       "      <td>NaN</td>\n",
       "      <td>7.0</td>\n",
       "      <td>GrlJ3-M2YvO</td>\n",
       "      <td>8.0</td>\n",
       "      <td>2.0</td>\n",
       "      <td>2100.0</td>\n",
       "    </tr>\n",
       "    <tr>\n",
       "      <td>11</td>\n",
       "      <td>821</td>\n",
       "      <td>Aces and Kings</td>\n",
       "      <td>False</td>\n",
       "      <td>None</td>\n",
       "      <td>2018-07-16T09:00:53.331-07:00</td>\n",
       "      <td>http://ipdb.org/machine.cgi?id=11</td>\n",
       "      <td>1970</td>\n",
       "      <td>Williams</td>\n",
       "      <td>NaN</td>\n",
       "      <td>11.0</td>\n",
       "      <td>G5oK2-M9R6y</td>\n",
       "      <td>6.0</td>\n",
       "      <td>2.0</td>\n",
       "      <td>4153.0</td>\n",
       "    </tr>\n",
       "    <tr>\n",
       "      <td>20</td>\n",
       "      <td>687</td>\n",
       "      <td>The Addams Family</td>\n",
       "      <td>False</td>\n",
       "      <td>None</td>\n",
       "      <td>2018-07-16T09:00:42.555-07:00</td>\n",
       "      <td>http://ipdb.org/machine.cgi?id=20</td>\n",
       "      <td>1992</td>\n",
       "      <td>Bally</td>\n",
       "      <td>55.0</td>\n",
       "      <td>20.0</td>\n",
       "      <td>G4ODR-MDXEy</td>\n",
       "      <td>8.0</td>\n",
       "      <td>4.0</td>\n",
       "      <td>20270.0</td>\n",
       "    </tr>\n",
       "    <tr>\n",
       "      <td>21</td>\n",
       "      <td>2514</td>\n",
       "      <td>The Addams Family Gold</td>\n",
       "      <td>None</td>\n",
       "      <td>2016-01-09T06:26:47.132-08:00</td>\n",
       "      <td>2018-07-16T09:00:45.008-07:00</td>\n",
       "      <td>http://ipdb.org/machine.cgi?id=21</td>\n",
       "      <td>1994</td>\n",
       "      <td>Bally</td>\n",
       "      <td>55.0</td>\n",
       "      <td>21.0</td>\n",
       "      <td>G4ODR-MLzY7</td>\n",
       "      <td>8.0</td>\n",
       "      <td>4.0</td>\n",
       "      <td>1000.0</td>\n",
       "    </tr>\n",
       "  </tbody>\n",
       "</table>\n",
       "</div>"
      ],
      "text/plain": [
       "          id                    name is_active                     created_at  \\\n",
       "ipd_id                                                                          \n",
       "2       1263           Abra Ca Dabra     False  2012-03-22T16:20:10.000-07:00   \n",
       "7       1961                Ace High     False  2014-02-26T11:13:13.174-08:00   \n",
       "11       821          Aces and Kings     False                           None   \n",
       "20       687       The Addams Family     False                           None   \n",
       "21      2514  The Addams Family Gold      None  2016-01-09T06:26:47.132-08:00   \n",
       "\n",
       "                           updated_at                          ipdb_link  \\\n",
       "ipd_id                                                                     \n",
       "2       2018-07-16T09:00:52.050-07:00   http://ipdb.org/machine.cgi?id=2   \n",
       "7       2018-07-16T09:00:53.787-07:00   http://ipdb.org/machine.cgi?id=7   \n",
       "11      2018-07-16T09:00:53.331-07:00  http://ipdb.org/machine.cgi?id=11   \n",
       "20      2018-07-16T09:00:42.555-07:00  http://ipdb.org/machine.cgi?id=20   \n",
       "21      2018-07-16T09:00:45.008-07:00  http://ipdb.org/machine.cgi?id=21   \n",
       "\n",
       "        year manufacturer  machine_group_id  ipdb_id      opdb_id  rating  \\\n",
       "ipd_id                                                                      \n",
       "2       1975     Gottlieb               NaN      2.0  GRpZ2-MkPyb     8.0   \n",
       "7       1957     Gottlieb               NaN      7.0  GrlJ3-M2YvO     8.0   \n",
       "11      1970     Williams               NaN     11.0  G5oK2-M9R6y     6.0   \n",
       "20      1992        Bally              55.0     20.0  G4ODR-MDXEy     8.0   \n",
       "21      1994        Bally              55.0     21.0  G4ODR-MLzY7     8.0   \n",
       "\n",
       "        flippers    units  \n",
       "ipd_id                     \n",
       "2            2.0   2825.0  \n",
       "7            2.0   2100.0  \n",
       "11           2.0   4153.0  \n",
       "20           4.0  20270.0  \n",
       "21           4.0   1000.0  "
      ]
     },
     "execution_count": 30,
     "metadata": {},
     "output_type": "execute_result"
    }
   ],
   "source": [
    "full_dataset = machines.join(all_scrape_data)\n",
    "full_dataset.head()"
   ]
  },
  {
   "cell_type": "code",
   "execution_count": 31,
   "metadata": {
    "ExecuteTime": {
     "end_time": "2020-02-26T18:35:36.757674Z",
     "start_time": "2020-02-26T18:35:36.741342Z"
    }
   },
   "outputs": [
    {
     "name": "stdout",
     "output_type": "stream",
     "text": [
      "<class 'pandas.core.frame.DataFrame'>\n",
      "Int64Index: 1090 entries, 2 to 6504\n",
      "Data columns (total 14 columns):\n",
      "id                  1090 non-null int64\n",
      "name                1090 non-null object\n",
      "is_active           809 non-null object\n",
      "created_at          688 non-null object\n",
      "updated_at          1090 non-null object\n",
      "ipdb_link           1090 non-null object\n",
      "year                1090 non-null int64\n",
      "manufacturer        1090 non-null object\n",
      "machine_group_id    100 non-null float64\n",
      "ipdb_id             1090 non-null float64\n",
      "opdb_id             1013 non-null object\n",
      "rating              781 non-null float64\n",
      "flippers            902 non-null float64\n",
      "units               816 non-null float64\n",
      "dtypes: float64(5), int64(2), object(7)\n",
      "memory usage: 127.7+ KB\n"
     ]
    }
   ],
   "source": [
    "full_dataset.info()"
   ]
  },
  {
   "cell_type": "code",
   "execution_count": 32,
   "metadata": {
    "ExecuteTime": {
     "end_time": "2020-02-26T18:36:21.790666Z",
     "start_time": "2020-02-26T18:36:21.758516Z"
    }
   },
   "outputs": [],
   "source": [
    "full_dataset.to_csv('pinball_data.csv')"
   ]
  },
  {
   "cell_type": "code",
   "execution_count": null,
   "metadata": {},
   "outputs": [],
   "source": []
  }
 ],
 "metadata": {
  "kernelspec": {
   "display_name": "Python 3",
   "language": "python",
   "name": "python3"
  },
  "language_info": {
   "codemirror_mode": {
    "name": "ipython",
    "version": 3
   },
   "file_extension": ".py",
   "mimetype": "text/x-python",
   "name": "python",
   "nbconvert_exporter": "python",
   "pygments_lexer": "ipython3",
   "version": "3.6.6"
  },
  "toc": {
   "base_numbering": 1,
   "nav_menu": {},
   "number_sections": true,
   "sideBar": true,
   "skip_h1_title": false,
   "title_cell": "Table of Contents",
   "title_sidebar": "Contents",
   "toc_cell": true,
   "toc_position": {},
   "toc_section_display": true,
   "toc_window_display": false
  }
 },
 "nbformat": 4,
 "nbformat_minor": 2
}
